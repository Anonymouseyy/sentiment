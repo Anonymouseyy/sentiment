{
 "cells": [
  {
   "cell_type": "code",
   "execution_count": null,
   "id": "f9c95e10",
   "metadata": {},
   "outputs": [
    {
     "data": {
      "text/html": [
       "<div>\n",
       "<style scoped>\n",
       "    .dataframe tbody tr th:only-of-type {\n",
       "        vertical-align: middle;\n",
       "    }\n",
       "\n",
       "    .dataframe tbody tr th {\n",
       "        vertical-align: top;\n",
       "    }\n",
       "\n",
       "    .dataframe thead th {\n",
       "        text-align: right;\n",
       "    }\n",
       "</style>\n",
       "<table border=\"1\" class=\"dataframe\">\n",
       "  <thead>\n",
       "    <tr style=\"text-align: right;\">\n",
       "      <th></th>\n",
       "      <th>textID</th>\n",
       "      <th>text</th>\n",
       "      <th>selected_text</th>\n",
       "      <th>sentiment</th>\n",
       "    </tr>\n",
       "  </thead>\n",
       "  <tbody>\n",
       "    <tr>\n",
       "      <th>16971</th>\n",
       "      <td>ba3b1d6795</td>\n",
       "      <td>- going somewhat out of town? (x visitng uncle...</td>\n",
       "      <td>- going somewhat out of town? (x visitng uncle...</td>\n",
       "      <td>neutral</td>\n",
       "    </tr>\n",
       "    <tr>\n",
       "      <th>1184</th>\n",
       "      <td>6d6430bd5d</td>\n",
       "      <td>When balancing a chair on my chin in the sixt...</td>\n",
       "      <td>When balancing a chair on my chin in the sixth...</td>\n",
       "      <td>positive</td>\n",
       "    </tr>\n",
       "    <tr>\n",
       "      <th>849</th>\n",
       "      <td>0397995d17</td>\n",
       "      <td>trying to figure it out</td>\n",
       "      <td>trying to figure it out</td>\n",
       "      <td>neutral</td>\n",
       "    </tr>\n",
       "    <tr>\n",
       "      <th>25577</th>\n",
       "      <td>7e05e68092</td>\n",
       "      <td>Ok this is a lot more boring then I thought  a...</td>\n",
       "      <td>Ok this is a lot more boring</td>\n",
       "      <td>negative</td>\n",
       "    </tr>\n",
       "    <tr>\n",
       "      <th>1375</th>\n",
       "      <td>db0604e817</td>\n",
       "      <td>i really cant take this.</td>\n",
       "      <td>i really cant take this.</td>\n",
       "      <td>negative</td>\n",
       "    </tr>\n",
       "  </tbody>\n",
       "</table>\n",
       "</div>"
      ],
      "text/plain": [
       "           textID                                               text  \\\n",
       "16971  ba3b1d6795  - going somewhat out of town? (x visitng uncle...   \n",
       "1184   6d6430bd5d   When balancing a chair on my chin in the sixt...   \n",
       "849    0397995d17                            trying to figure it out   \n",
       "25577  7e05e68092  Ok this is a lot more boring then I thought  a...   \n",
       "1375   db0604e817                           i really cant take this.   \n",
       "\n",
       "                                           selected_text sentiment  \n",
       "16971  - going somewhat out of town? (x visitng uncle...   neutral  \n",
       "1184   When balancing a chair on my chin in the sixth...  positive  \n",
       "849                              trying to figure it out   neutral  \n",
       "25577                       Ok this is a lot more boring  negative  \n",
       "1375                            i really cant take this.  negative  "
      ]
     },
     "execution_count": 24,
     "metadata": {},
     "output_type": "execute_result"
    }
   ],
   "source": [
    "import nltk\n",
    "from nltk.corpus import stopwords\n",
    "from nltk.tokenize import word_tokenize\n",
    "from nltk.stem import WordNetLemmatizer\n",
    "from sklearn.feature_extraction.text import TfidfVectorizer\n",
    "import pandas as pd\n",
    "\n",
    "data = pd.read_csv(r\"./Tweets.csv\")\n",
    "data.sample.head(5)"
   ]
  },
  {
   "cell_type": "code",
   "execution_count": null,
   "id": "1a890975",
   "metadata": {},
   "outputs": [
    {
     "name": "stdout",
     "output_type": "stream",
     "text": [
      "0              ` responded , going\n",
      "1    sooo sad miss san diego ! ! !\n",
      "2                 bos bullying ...\n",
      "Name: text, dtype: object\n"
     ]
    },
    {
     "data": {
      "text/plain": [
       "(27480, 24642)"
      ]
     },
     "execution_count": 25,
     "metadata": {},
     "output_type": "execute_result"
    }
   ],
   "source": [
    "stop_words = set(stopwords.words('english'))\n",
    "lemmatizer = WordNetLemmatizer()\n",
    "\n",
    "def preprocess(text):\n",
    "    tokens = word_tokenize(text)\n",
    "    tokens = [w for w in tokens if w.lower() not in stop_words]\n",
    "    tokens = [lemmatizer.lemmatize(w.lower()) for w in tokens]\n",
    "    tokens = \" \".join(tokens)\n",
    "    return tokens\n",
    "\n",
    "corpus = data[\"text\"].dropna().apply(preprocess)\n",
    "print(corpus[:5])\n",
    "\n",
    "vectorizer = TfidfVectorizer(sublinear_tf = True,\n",
    "                             use_idf = True)\n",
    "\n",
    "X = vectorizer.fit_transform(corpus)\n",
    "X.shape"
   ]
  }
 ],
 "metadata": {
  "kernelspec": {
   "display_name": ".venv",
   "language": "python",
   "name": "python3"
  },
  "language_info": {
   "codemirror_mode": {
    "name": "ipython",
    "version": 3
   },
   "file_extension": ".py",
   "mimetype": "text/x-python",
   "name": "python",
   "nbconvert_exporter": "python",
   "pygments_lexer": "ipython3",
   "version": "3.13.1"
  }
 },
 "nbformat": 4,
 "nbformat_minor": 5
}
