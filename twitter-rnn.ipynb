{
 "cells": [
  {
   "cell_type": "code",
   "execution_count": null,
   "id": "ff754bac",
   "metadata": {},
   "outputs": [
    {
     "data": {
      "text/html": [
       "<div>\n",
       "<style scoped>\n",
       "    .dataframe tbody tr th:only-of-type {\n",
       "        vertical-align: middle;\n",
       "    }\n",
       "\n",
       "    .dataframe tbody tr th {\n",
       "        vertical-align: top;\n",
       "    }\n",
       "\n",
       "    .dataframe thead th {\n",
       "        text-align: right;\n",
       "    }\n",
       "</style>\n",
       "<table border=\"1\" class=\"dataframe\">\n",
       "  <thead>\n",
       "    <tr style=\"text-align: right;\">\n",
       "      <th></th>\n",
       "      <th>textID</th>\n",
       "      <th>text</th>\n",
       "      <th>selected_text</th>\n",
       "      <th>sentiment</th>\n",
       "    </tr>\n",
       "  </thead>\n",
       "  <tbody>\n",
       "    <tr>\n",
       "      <th>0</th>\n",
       "      <td>cb774db0d1</td>\n",
       "      <td>I`d have responded, if I were going</td>\n",
       "      <td>I`d have responded, if I were going</td>\n",
       "      <td>neutral</td>\n",
       "    </tr>\n",
       "    <tr>\n",
       "      <th>1</th>\n",
       "      <td>549e992a42</td>\n",
       "      <td>Sooo SAD I will miss you here in San Diego!!!</td>\n",
       "      <td>Sooo SAD</td>\n",
       "      <td>negative</td>\n",
       "    </tr>\n",
       "    <tr>\n",
       "      <th>2</th>\n",
       "      <td>088c60f138</td>\n",
       "      <td>my boss is bullying me...</td>\n",
       "      <td>bullying me</td>\n",
       "      <td>negative</td>\n",
       "    </tr>\n",
       "    <tr>\n",
       "      <th>3</th>\n",
       "      <td>9642c003ef</td>\n",
       "      <td>what interview! leave me alone</td>\n",
       "      <td>leave me alone</td>\n",
       "      <td>negative</td>\n",
       "    </tr>\n",
       "    <tr>\n",
       "      <th>4</th>\n",
       "      <td>358bd9e861</td>\n",
       "      <td>Sons of ****, why couldn`t they put them on t...</td>\n",
       "      <td>Sons of ****,</td>\n",
       "      <td>negative</td>\n",
       "    </tr>\n",
       "  </tbody>\n",
       "</table>\n",
       "</div>"
      ],
      "text/plain": [
       "       textID                                               text  \\\n",
       "0  cb774db0d1                I`d have responded, if I were going   \n",
       "1  549e992a42      Sooo SAD I will miss you here in San Diego!!!   \n",
       "2  088c60f138                          my boss is bullying me...   \n",
       "3  9642c003ef                     what interview! leave me alone   \n",
       "4  358bd9e861   Sons of ****, why couldn`t they put them on t...   \n",
       "\n",
       "                         selected_text sentiment  \n",
       "0  I`d have responded, if I were going   neutral  \n",
       "1                             Sooo SAD  negative  \n",
       "2                          bullying me  negative  \n",
       "3                       leave me alone  negative  \n",
       "4                        Sons of ****,  negative  "
      ]
     },
     "execution_count": 63,
     "metadata": {},
     "output_type": "execute_result"
    }
   ],
   "source": [
    "from nltk.corpus import stopwords\n",
    "from nltk.tokenize import word_tokenize\n",
    "from nltk.stem import WordNetLemmatizer\n",
    "from sklearn.model_selection import train_test_split\n",
    "from sklearn.preprocessing import LabelEncoder\n",
    "from torch.nn.utils.rnn import pad_sequence\n",
    "from collections import Counter\n",
    "import pandas as pd\n",
    "\n",
    "import torch\n",
    "from torch import nn\n",
    "from torch.utils.data import DataLoader, TensorDataset\n",
    "\n",
    "data = pd.read_csv(r\"./Tweets.csv\")\n",
    "data.head(5)"
   ]
  },
  {
   "cell_type": "code",
   "execution_count": 64,
   "id": "376bdba4",
   "metadata": {},
   "outputs": [
    {
     "data": {
      "text/plain": [
       "(21984, 5497)"
      ]
     },
     "execution_count": 64,
     "metadata": {},
     "output_type": "execute_result"
    }
   ],
   "source": [
    "X_train, X_test, y_train, y_test = train_test_split(data[\"text\"], data[\"sentiment\"], test_size=0.2, stratify=data[\"sentiment\"])\n",
    "\n",
    "len(X_train), len(X_test)"
   ]
  },
  {
   "cell_type": "code",
   "execution_count": 65,
   "id": "dba9c914",
   "metadata": {},
   "outputs": [
    {
     "data": {
      "text/plain": [
       "15082    [http, :, //tinyurl.com/c33ffv, thats, im, mak...\n",
       "423      [_dec0de, finally, 1, hour, history, ..., 3.00...\n",
       "19811                          [*, *, *, *, hate, goodbye]\n",
       "11855    [given, way, kunal, khemu, etc, ., starrers, t...\n",
       "61                                             [haha, yes]\n",
       "Name: text, dtype: object"
      ]
     },
     "execution_count": 65,
     "metadata": {},
     "output_type": "execute_result"
    }
   ],
   "source": [
    "stop_words = set(stopwords.words('english'))\n",
    "lemmatizer = WordNetLemmatizer()\n",
    "\n",
    "def preprocess(text):\n",
    "    if not isinstance(text, str) or text.strip() == \"\":\n",
    "        return \"\"\n",
    "    tokens = word_tokenize(text)\n",
    "    tokens = [w for w in tokens if w.lower() not in stop_words]\n",
    "    tokens = [lemmatizer.lemmatize(w.lower()) for w in tokens]\n",
    "    return tokens\n",
    "\n",
    "X_train = X_train.fillna(\"\").apply(preprocess)\n",
    "X_test = X_test.fillna(\"\").apply(preprocess)\n",
    "X_train[:5]"
   ]
  },
  {
   "cell_type": "code",
   "execution_count": 66,
   "id": "80368fa9",
   "metadata": {},
   "outputs": [
    {
     "data": {
      "text/plain": [
       "tensor([    1,  1620, 19886,    44,   846,     0,     0,     0,     0,     0,\n",
       "            0,     0,     0,     0,     0,     0,     0,     0,     0,     0,\n",
       "            0,     0,     0,     0,     0,     0,     0,     0,     0,     0,\n",
       "            0,     0,     0,     0,     0,     0,     0,     0,     0,     0,\n",
       "            0,     0,     0])"
      ]
     },
     "execution_count": 66,
     "metadata": {},
     "output_type": "execute_result"
    }
   ],
   "source": [
    "all_tokens = [token for tokens in X_train for token in tokens]\n",
    "\n",
    "vocab = {token: idx+2 for idx, (token, _) in enumerate(Counter(all_tokens).most_common())}\n",
    "vocab[\"<PAD>\"] = 0\n",
    "vocab[\"<UNK>\"] = 1\n",
    "vocab_size = len(vocab)\n",
    "\n",
    "def encode(text):\n",
    "    return [vocab.get(token, vocab[\"<UNK>\"]) for token in text]\n",
    "\n",
    "X_train = [encode(text) for text in X_train]\n",
    "X_test= [encode(text) for text in X_test]\n",
    "\n",
    "def pad_sequences(seqs, pad_value=0):\n",
    "    return pad_sequence([torch.tensor(s) for s in seqs], batch_first=True, padding_value=pad_value)\n",
    "\n",
    "X_train = pad_sequences(X_train)\n",
    "X_test = pad_sequences(X_test)\n",
    "\n",
    "\n",
    "X_test[1]"
   ]
  },
  {
   "cell_type": "code",
   "execution_count": 67,
   "id": "0760d03b",
   "metadata": {},
   "outputs": [],
   "source": [
    "le = LabelEncoder()\n",
    "y_train = le.fit_transform(y_train)\n",
    "y_test = le.transform(y_test)\n",
    "\n",
    "y_train = torch.tensor(y_train, dtype=torch.long)\n",
    "y_test = torch.tensor(y_test, dtype=torch.long)\n",
    "\n",
    "train_dataset = TensorDataset(X_train, y_train)\n",
    "test_dataset = TensorDataset(X_test, y_test)"
   ]
  },
  {
   "cell_type": "code",
   "execution_count": 68,
   "id": "211e1967",
   "metadata": {},
   "outputs": [
    {
     "name": "stdout",
     "output_type": "stream",
     "text": [
      "Using mps device\n"
     ]
    }
   ],
   "source": [
    "device = (\n",
    "    \"cuda\"\n",
    "    if torch.cuda.is_available()\n",
    "    else \"mps\"\n",
    "    if torch.backends.mps.is_available()\n",
    "    else \"cpu\"\n",
    ")\n",
    "print(f\"Using {device} device\")\n",
    "\n",
    "class Network(nn.Module):\n",
    "    def __init__(self, vocab_size, embedding_dim, hidden_dim, output_dim, bidirectional=True):\n",
    "        super().__init__()\n",
    "        self.embedding = nn.Embedding(vocab_size, embedding_dim, padding_idx=0)\n",
    "        self.rnn = nn.RNN(embedding_dim, hidden_dim, batch_first=True, bidirectional=bidirectional)\n",
    "        self.fc = nn.Linear(hidden_dim * (2 if bidirectional else 1), output_dim)\n",
    "\n",
    "    def forward(self, x):\n",
    "        embedded = self.embedding(x)\n",
    "        output, hidden = self.rnn(embedded)\n",
    "        if self.rnn.bidirectional:\n",
    "            hidden = torch.cat((hidden[-2], hidden[-1]), dim=1)\n",
    "        else:\n",
    "            hidden = hidden[-1]\n",
    "        return self.fc(hidden)"
   ]
  },
  {
   "cell_type": "code",
   "execution_count": null,
   "id": "bd303631",
   "metadata": {},
   "outputs": [],
   "source": [
    "N = 100\n",
    "train_dataloader = DataLoader(train_dataset, batch_size=N)\n",
    "test_dataloader = DataLoader(test_dataset, batch_size=N)\n",
    "\n",
    "def train(model, dataloader, loss_fn, optimizer):\n",
    "    size = len(dataloader.dataset)\n",
    "    model.train()\n",
    "\n",
    "    for i, (X, y) in enumerate(dataloader):\n",
    "        X, y = X.to(device), y.to(device)\n",
    "\n",
    "        pred = model(X)\n",
    "        loss = loss_fn(pred, y)\n",
    "\n",
    "        loss.backward()\n",
    "        optimizer.step()\n",
    "        optimizer.zero_grad()\n",
    "\n",
    "        if i % 100 == 0:\n",
    "            loss, current = loss.item(), i * len(X)\n",
    "            print(f\"loss: {loss:>7f}  [{current:>5d}/{size:>5d}]\")\n",
    "\n",
    "def test(model, dataloader, loss_fn):\n",
    "    size = len(dataloader.dataset)\n",
    "    num_N = len(dataloader)\n",
    "    \n",
    "    model.eval()\n",
    "    test_loss, correct = 0, 0\n",
    "\n",
    "    with torch.no_grad():\n",
    "        for X, y in dataloader:\n",
    "            X, y = X.to(device), y.to(device)\n",
    "            pred = model(X)\n",
    "            test_loss += loss_fn(pred, y).item()\n",
    "            correct += (pred.argmax(1) == y).type(torch.float).sum().item()\n",
    "    test_loss /= num_N\n",
    "    correct /= size\n",
    "    print(f\"Test Error: \\n Accuracy: {(100*correct):>0.1f}%, Avg loss: {test_loss:>8f} \\n\")"
   ]
  },
  {
   "cell_type": "code",
   "execution_count": null,
   "id": "379fd191",
   "metadata": {},
   "outputs": [],
   "source": [
    "embedding_dim = 100\n",
    "hidden_dim = 1028\n",
    "output_dim = len(le.classes_)\n",
    "model = Network(vocab_size, embedding_dim, hidden_dim, output_dim, bidirectional=True).to(device)"
   ]
  },
  {
   "cell_type": "code",
   "execution_count": 72,
   "id": "57995d39",
   "metadata": {},
   "outputs": [
    {
     "name": "stdout",
     "output_type": "stream",
     "text": [
      "Epoch 1\n",
      "-------------------------------\n",
      "loss: 0.534497  [    0/21984]\n",
      "loss: 0.481728  [10000/21984]\n",
      "loss: 0.660533  [20000/21984]\n",
      "Test Error: \n",
      " Accuracy: 62.4%, Avg loss: 0.015863 \n",
      "\n",
      "Epoch 2\n",
      "-------------------------------\n",
      "loss: 0.466821  [    0/21984]\n",
      "loss: 0.422031  [10000/21984]\n",
      "loss: 0.409683  [20000/21984]\n",
      "Test Error: \n",
      " Accuracy: 64.6%, Avg loss: 0.015984 \n",
      "\n",
      "Epoch 3\n",
      "-------------------------------\n",
      "loss: 0.470519  [    0/21984]\n",
      "loss: 0.408879  [10000/21984]\n",
      "loss: 0.395124  [20000/21984]\n",
      "Test Error: \n",
      " Accuracy: 62.0%, Avg loss: 0.015906 \n",
      "\n",
      "Epoch 4\n",
      "-------------------------------\n",
      "loss: 0.464852  [    0/21984]\n",
      "loss: 0.407001  [10000/21984]\n",
      "loss: 0.394958  [20000/21984]\n",
      "Test Error: \n",
      " Accuracy: 61.7%, Avg loss: 0.016011 \n",
      "\n",
      "Epoch 5\n",
      "-------------------------------\n",
      "loss: 0.456309  [    0/21984]\n",
      "loss: 0.434199  [10000/21984]\n",
      "loss: 0.385118  [20000/21984]\n",
      "Test Error: \n",
      " Accuracy: 64.6%, Avg loss: 0.015995 \n",
      "\n",
      "Epoch 6\n",
      "-------------------------------\n",
      "loss: 0.455003  [    0/21984]\n",
      "loss: 0.395941  [10000/21984]\n",
      "loss: 0.391460  [20000/21984]\n",
      "Test Error: \n",
      " Accuracy: 63.3%, Avg loss: 0.015876 \n",
      "\n",
      "Epoch 7\n",
      "-------------------------------\n",
      "loss: 0.446892  [    0/21984]\n",
      "loss: 0.424526  [10000/21984]\n",
      "loss: 0.399338  [20000/21984]\n",
      "Test Error: \n",
      " Accuracy: 64.4%, Avg loss: 0.016745 \n",
      "\n",
      "Epoch 8\n",
      "-------------------------------\n",
      "loss: 0.430656  [    0/21984]\n",
      "loss: 0.375027  [10000/21984]\n",
      "loss: 0.393679  [20000/21984]\n",
      "Test Error: \n",
      " Accuracy: 65.1%, Avg loss: 0.016794 \n",
      "\n",
      "Epoch 9\n",
      "-------------------------------\n",
      "loss: 0.429253  [    0/21984]\n",
      "loss: 0.373619  [10000/21984]\n",
      "loss: 0.395228  [20000/21984]\n",
      "Test Error: \n",
      " Accuracy: 65.2%, Avg loss: 0.016946 \n",
      "\n",
      "Epoch 10\n",
      "-------------------------------\n",
      "loss: 0.426019  [    0/21984]\n",
      "loss: 0.380880  [10000/21984]\n",
      "loss: 0.388259  [20000/21984]\n",
      "Test Error: \n",
      " Accuracy: 65.4%, Avg loss: 0.016762 \n",
      "\n",
      "Done!\n"
     ]
    }
   ],
   "source": [
    "epochs = 10\n",
    "\n",
    "loss_fn = nn.CrossEntropyLoss()\n",
    "optimizer = torch.optim.AdamW(model.parameters(), lr=1e-4, weight_decay=1e-3)\n",
    "\n",
    "for i in range(epochs):\n",
    "    print(f\"Epoch {i+1}\\n-------------------------------\")\n",
    "    train(model, train_dataloader, loss_fn, optimizer)\n",
    "    test(model, test_dataloader, loss_fn)\n",
    "\n",
    "print(\"Done!\")"
   ]
  },
  {
   "cell_type": "code",
   "execution_count": 82,
   "id": "e53525a7",
   "metadata": {},
   "outputs": [
    {
     "data": {
      "text/plain": [
       "'positive'"
      ]
     },
     "execution_count": 82,
     "metadata": {},
     "output_type": "execute_result"
    }
   ],
   "source": [
    "text = input(\"Text: \")\n",
    "text = preprocess(text)\n",
    "text = encode(text)\n",
    "text = torch.tensor(text).to(device)\n",
    "text = text.unsqueeze(0)\n",
    "\n",
    "pred = model(text)\n",
    "pred = le.inverse_transform([pred.argmax(1).item()])\n",
    "pred[0]"
   ]
  }
 ],
 "metadata": {
  "kernelspec": {
   "display_name": ".venv",
   "language": "python",
   "name": "python3"
  },
  "language_info": {
   "codemirror_mode": {
    "name": "ipython",
    "version": 3
   },
   "file_extension": ".py",
   "mimetype": "text/x-python",
   "name": "python",
   "nbconvert_exporter": "python",
   "pygments_lexer": "ipython3",
   "version": "3.13.1"
  }
 },
 "nbformat": 4,
 "nbformat_minor": 5
}
